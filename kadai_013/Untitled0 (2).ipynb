{
  "nbformat": 4,
  "nbformat_minor": 0,
  "metadata": {
    "colab": {
      "provenance": []
    },
    "kernelspec": {
      "name": "python3",
      "display_name": "Python 3"
    },
    "language_info": {
      "name": "python"
    }
  },
  "cells": [
    {
      "cell_type": "code",
      "execution_count": 42,
      "metadata": {
        "colab": {
          "base_uri": "https://localhost:8080/"
        },
        "id": "ck-xUYon6fEr",
        "outputId": "fc4495ef-b6cf-4f5d-a70e-01c5a5b981ee"
      },
      "outputs": [
        {
          "output_type": "stream",
          "name": "stdout",
          "text": [
            "110.00000000000001\n"
          ]
        }
      ],
      "source": [
        "# 与えられた引数$priceに送料を加算し、その値を出力する関数を定義する\n",
        "def calculate_total(price,tax):\n",
        "    # 与えられた引数priceに送料を加算し、変数totalに代入する\n",
        "    tax1=tax * 0.01\n",
        "    total = price *(1+tax1)\n",
        "\n",
        "    # 変数totalの値を出力する\n",
        "    return total\n",
        "\n",
        "# 関数を呼び出し、引数として購入金額を渡す\n",
        "print(calculate_total(100,10))"
      ]
    }
  ]
}