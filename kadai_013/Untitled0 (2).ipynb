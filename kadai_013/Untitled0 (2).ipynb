{
  "nbformat": 4,
  "nbformat_minor": 0,
  "metadata": {
    "colab": {
      "provenance": []
    },
    "kernelspec": {
      "name": "python3",
      "display_name": "Python 3"
    },
    "language_info": {
      "name": "python"
    }
  },
  "cells": [
    {
      "cell_type": "code",
      "execution_count": 31,
      "metadata": {
        "colab": {
          "base_uri": "https://localhost:8080/"
        },
        "id": "ck-xUYon6fEr",
        "outputId": "cca66054-f94d-4285-9680-81a5d109e65c"
      },
      "outputs": [
        {
          "output_type": "stream",
          "name": "stdout",
          "text": [
            "220.0円\n"
          ]
        }
      ],
      "source": [
        "# 与えられた引数$priceに送料を加算し、その値を出力する関数を定義する\n",
        "def calculate_total(price,tax):\n",
        "    # 与えられた引数priceに送料を加算し、変数totalに代入する\n",
        "\n",
        "    total = price *(1+(tax*0.1))\n",
        "\n",
        "    # 変数totalの値を出力する\n",
        "    print(f\"{total}円\")\n",
        "\n",
        "# 関数を呼び出し、引数として購入金額を渡す\n",
        "calculate_total(110,10)"
      ]
    }
  ]
}