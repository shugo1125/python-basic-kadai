{
  "nbformat": 4,
  "nbformat_minor": 0,
  "metadata": {
    "colab": {
      "provenance": []
    },
    "kernelspec": {
      "name": "python3",
      "display_name": "Python 3"
    },
    "language_info": {
      "name": "python"
    }
  },
  "cells": [
    {
      "cell_type": "code",
      "source": [
        "# 与えられた引数$priceに送料を加算し、その値を出力する関数を定義する\n",
        "def calculate_total(price,tax):\n",
        "    # 与えられた引数priceに送料を加算し、変数totalに代入する\n",
        "    total = price *(1+tax)\n",
        "\n",
        "    # 変数totalの値を出力する\n",
        "    return total\n",
        "\n",
        "# 関数を呼び出し、引数として購入金額を渡す\n",
        "print(calculate_total(100,0.01))"
      ],
      "metadata": {
        "colab": {
          "base_uri": "https://localhost:8080/"
        },
        "id": "0vaVv_y5IMLY",
        "outputId": "17ef7fd1-9ff2-4602-8bc5-453752a7ae1b"
      },
      "execution_count": 5,
      "outputs": [
        {
          "output_type": "stream",
          "name": "stdout",
          "text": [
            "101.0\n"
          ]
        }
      ]
    }
  ]
}