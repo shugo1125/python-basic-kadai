{
  "nbformat": 4,
  "nbformat_minor": 0,
  "metadata": {
    "colab": {
      "provenance": []
    },
    "kernelspec": {
      "name": "python3",
      "display_name": "Python 3"
    },
    "language_info": {
      "name": "python"
    }
  },
  "cells": [
    {
      "cell_type": "code",
      "execution_count": 11,
      "metadata": {
        "colab": {
          "base_uri": "https://localhost:8080/"
        },
        "id": "ck-xUYon6fEr",
        "outputId": "dca4ba5a-a76d-406b-84fc-e08d087ce45a"
      },
      "outputs": [
        {
          "output_type": "stream",
          "name": "stdout",
          "text": [
            "Fizz\n"
          ]
        }
      ],
      "source": [
        "var=12\n",
        "if(var%15==0):\n",
        " print(\"FizzBuzz\")\n",
        "elif(var%5==0):\n",
        " print(\"Buzz\")\n",
        "elif(var%3==0):\n",
        " print(\"Fizz\")\n",
        "else:\n",
        "  print(var)"
      ]
    }
  ]
}