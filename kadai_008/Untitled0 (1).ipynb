{
  "nbformat": 4,
  "nbformat_minor": 0,
  "metadata": {
    "colab": {
      "provenance": []
    },
    "kernelspec": {
      "name": "python3",
      "display_name": "Python 3"
    },
    "language_info": {
      "name": "python"
    }
  },
  "cells": [
    {
      "cell_type": "code",
      "execution_count": 6,
      "metadata": {
        "colab": {
          "base_uri": "https://localhost:8080/"
        },
        "id": "ck-xUYon6fEr",
        "outputId": "e497eb5d-64ef-4794-9c69-ecb4806bd59e"
      },
      "outputs": [
        {
          "output_type": "stream",
          "name": "stdout",
          "text": [
            "Fizz\n"
          ]
        }
      ],
      "source": [
        "var=12\n",
        "if(var%3==0):\n",
        " print(\"Fizz\")\n",
        "elif(var%5==0):\n",
        " print(\"Buzz\")\n",
        "elif(var%15==0):\n",
        " print(\"FizzBuzz\")\n",
        "else:\n",
        "  print(var)"
      ]
    }
  ]
}