{
  "cells": [
    {
      "cell_type": "code",
      "execution_count": 13,
      "metadata": {
        "colab": {
          "base_uri": "https://localhost:8080/"
        },
        "id": "5VfoRDRpIE_e",
        "outputId": "7c4f5802-f3bd-4cc0-d579-9289e7e5d982"
      },
      "outputs": [
        {
          "output_type": "stream",
          "name": "stdout",
          "text": [
            "大人です\n",
            "大人です\n",
            "大人です\n",
            "大人です\n",
            "大人ではありません\n"
          ]
        }
      ],
      "source": [
        "class Human:\n",
        "    # コンストラクタを定義する\n",
        "    def __init__(self, name, age):\n",
        "        self.name = name\n",
        "        self.age = age\n",
        "\n",
        "    def check_adult(self):\n",
        "        if self.age >= 20:\n",
        "           print(\"大人です\")\n",
        "        else:\n",
        "           print(\"大人ではありません\")\n",
        "\n",
        "\n",
        "# インスタンス化する\n",
        "human1 = Human(\"侍太郎\", 36)\n",
        "human2 = Human(\"侍太郎\", 36)\n",
        "human3 = Human(\"侍太郎\", 36)\n",
        "human4 = Human(\"侍太郎\", 36)\n",
        "human5 = Human(\"侍太郎\", 16)\n",
        "\n",
        "user_names = [human1, human2, human3, human4, human5]\n",
        "\n",
        "human1.check_adult()\n",
        "human2.check_adult()\n",
        "human3.check_adult()\n",
        "human4.check_adult()\n",
        "human5.check_adult()\n",
        "\n"
      ]
    }
  ],
  "metadata": {
    "colab": {
      "provenance": []
    },
    "kernelspec": {
      "display_name": "Python 3",
      "name": "python3"
    },
    "language_info": {
      "name": "python"
    }
  },
  "nbformat": 4,
  "nbformat_minor": 0
}